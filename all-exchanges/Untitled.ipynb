{
 "cells": [
  {
   "cell_type": "code",
   "execution_count": 13,
   "metadata": {},
   "outputs": [
    {
     "name": "stdout",
     "output_type": "stream",
     "text": [
      ".EVOL7D\n",
      ".TRXXBT\n",
      ".TRXXBT30M\n",
      ".BADAXBT\n",
      ".BADAXBT30M\n",
      ".BBCHXBT\n",
      ".BBCHXBT30M\n",
      ".BEOSXBT\n",
      ".BEOSXBT30M\n",
      ".BXRPXBT\n",
      ".BXRPXBT30M\n",
      "XRPH19\n",
      "BCHH19\n",
      "ADAH19\n",
      "EOSH19\n",
      "TRXH19\n",
      "XRPM19\n",
      "BCHM19\n",
      "ADAM19\n",
      "EOSM19\n",
      "TRXM19\n",
      ".XBT\n",
      ".XBT30M\n",
      ".XBTBON\n",
      ".XBTBON8H\n",
      ".XBTUSDPI\n",
      ".XBTUSDPI8H\n",
      ".XBTBON2H\n",
      ".XBTUSDPI2H\n",
      ".BXBT\n",
      ".BXBT30M\n",
      ".XBTJPY\n",
      ".XBTJPY30M\n",
      ".BXBTJPY\n",
      ".BXBTJPY30M\n",
      ".BVOL\n",
      ".BVOL24H\n",
      ".BVOL7D\n",
      ".ETHBON\n",
      ".ETHBON2H\n",
      ".ETHBON8H\n",
      ".ETHUSDPI\n",
      ".ETHUSDPI2H\n",
      ".ETHUSDPI8H\n",
      ".BETH\n",
      ".BETH30M\n",
      ".BETHXBT\n",
      ".BETHXBT30M\n",
      ".BLTCXBT\n",
      ".BLTCXBT30M\n",
      ".USDBON\n",
      ".USDBON8H\n",
      ".USDBON2H\n",
      "BTC/USD\n"
     ]
    },
    {
     "ename": "KeyboardInterrupt",
     "evalue": "",
     "output_type": "error",
     "traceback": [
      "\u001b[0;31m---------------------------------------------------------------------------\u001b[0m",
      "\u001b[0;31mKeyboardInterrupt\u001b[0m                         Traceback (most recent call last)",
      "\u001b[0;32m<ipython-input-13-cc7726ee45eb>\u001b[0m in \u001b[0;36m<module>\u001b[0;34m()\u001b[0m\n\u001b[1;32m     24\u001b[0m \u001b[0;34m\u001b[0m\u001b[0m\n\u001b[1;32m     25\u001b[0m \u001b[0;32mfor\u001b[0m \u001b[0msymbol\u001b[0m \u001b[0;32min\u001b[0m \u001b[0mexchange\u001b[0m\u001b[0;34m.\u001b[0m\u001b[0mmarkets\u001b[0m\u001b[0;34m:\u001b[0m\u001b[0;34m\u001b[0m\u001b[0m\n\u001b[0;32m---> 26\u001b[0;31m     \u001b[0mtime\u001b[0m\u001b[0;34m.\u001b[0m\u001b[0msleep\u001b[0m \u001b[0;34m(\u001b[0m\u001b[0mexchange\u001b[0m\u001b[0;34m.\u001b[0m\u001b[0mrateLimit\u001b[0m \u001b[0;34m/\u001b[0m \u001b[0;36m1000\u001b[0m\u001b[0;34m)\u001b[0m \u001b[0;31m# time.sleep wants seconds\u001b[0m\u001b[0;34m\u001b[0m\u001b[0m\n\u001b[0m\u001b[1;32m     27\u001b[0m     \u001b[0mprint\u001b[0m \u001b[0;34m(\u001b[0m\u001b[0msymbol\u001b[0m\u001b[0;34m)\u001b[0m\u001b[0;34m\u001b[0m\u001b[0m\n",
      "\u001b[0;31mKeyboardInterrupt\u001b[0m: "
     ]
    }
   ],
   "source": [
    "import ccxt\n",
    "import numpy as np\n",
    "import pandas as pd\n",
    "import time\n",
    "import json\n",
    "\n",
    "bitmex = ccxt.bitmex()\n",
    "bithumb = ccxt.bithumb()\n",
    "okex = ccxt.okex()\n",
    "binance = ccxt.binance()\n",
    "huobi = huobi = ccxt.huobipro()\n",
    "bitforex = ccxt.bitforex()\n",
    "bittrex = ccxt.bittrex()\n",
    "kraken = ccxt.kraken()\n",
    "gdax = ccxt.gdax()\n",
    "bitfinex = ccxt.bitfinex2()\n",
    "\n",
    "exchanges = [bitmex, bithumb, okex, binance, huobi, bitforex, bittrex, kraken, gdax, bitfinex]\n",
    "\n",
    "\n",
    "bitmex.load_markets()\n",
    "exchange = bitmex \n",
    "\n",
    "\n",
    "for symbol in exchange.markets:\n",
    "    time.sleep (exchange.rateLimit / 1000) # time.sleep wants seconds\n",
    "    print (symbol)\n"
   ]
  },
  {
   "cell_type": "code",
   "execution_count": null,
   "metadata": {},
   "outputs": [],
   "source": []
  }
 ],
 "metadata": {
  "kernelspec": {
   "display_name": "Python 3",
   "language": "python",
   "name": "python3"
  },
  "language_info": {
   "codemirror_mode": {
    "name": "ipython",
    "version": 3
   },
   "file_extension": ".py",
   "mimetype": "text/x-python",
   "name": "python",
   "nbconvert_exporter": "python",
   "pygments_lexer": "ipython3",
   "version": "3.6.4"
  }
 },
 "nbformat": 4,
 "nbformat_minor": 2
}
